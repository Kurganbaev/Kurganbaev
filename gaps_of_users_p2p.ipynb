{
 "cells": [
  {
   "cell_type": "code",
   "execution_count": 3,
   "id": "865f2fb4",
   "metadata": {},
   "outputs": [],
   "source": [
    "import numpy as np\n",
    "import pandas as pd\n",
    "import psycopg2\n",
    "import datetime\n",
    "from datetime import datetime, timedelta\n",
    "from dateutil.relativedelta import *\n",
    "import openpyxl\n",
    "import matplotlib.pyplot as plt\n",
    "from math import floor"
   ]
  },
  {
   "cell_type": "code",
   "execution_count": 4,
   "id": "f506a3bb",
   "metadata": {},
   "outputs": [],
   "source": [
    "start = datetime.now()\n",
    "pd.options.display.float_format = '{:.2f}'.format"
   ]
  },
  {
   "cell_type": "code",
   "execution_count": 5,
   "id": "bacab21e",
   "metadata": {},
   "outputs": [],
   "source": [
    "df = pd.read_csv(r'C:\\Users\\MSI\\Downloads\\gaps_p2p.csv', low_memory = False, parse_dates = ['pay_time'])"
   ]
  },
  {
   "cell_type": "code",
   "execution_count": 7,
   "id": "322f1ab5",
   "metadata": {},
   "outputs": [],
   "source": [
    "df = df.sort_values(['payer_id', 'pay_time'])"
   ]
  },
  {
   "cell_type": "code",
   "execution_count": 10,
   "id": "5ded954d",
   "metadata": {},
   "outputs": [],
   "source": [
    "df['pay_time0'] = df['pay_time'].shift(-1)\n",
    "df['payer_id0'] = df['payer_id'].shift(-1)"
   ]
  },
  {
   "cell_type": "code",
   "execution_count": 12,
   "id": "4b33e9f2",
   "metadata": {},
   "outputs": [],
   "source": [
    "df['gap'] = np.where(df['payer_id'] == df['payer_id0'], (df['pay_time0'] - df['pay_time']).dt.days, np.nan)"
   ]
  },
  {
   "cell_type": "code",
   "execution_count": 13,
   "id": "69844aef",
   "metadata": {},
   "outputs": [],
   "source": [
    "df = df[pd.isna(df.gap) == False]"
   ]
  },
  {
   "cell_type": "code",
   "execution_count": 23,
   "id": "4c0f134f",
   "metadata": {},
   "outputs": [],
   "source": [
    "df_gap_max = pd.pivot_table(df, index = 'payer_id', values = 'gap', aggfunc = 'max').reset_index()"
   ]
  },
  {
   "cell_type": "code",
   "execution_count": 24,
   "id": "30cc6f0c",
   "metadata": {},
   "outputs": [],
   "source": [
    "df_gap_median = pd.pivot_table(df, index = 'payer_id', values = 'gap', aggfunc = 'median').reset_index()\n",
    "df_gap_median.gap = round(df_gap_median.gap)"
   ]
  },
  {
   "cell_type": "code",
   "execution_count": 27,
   "id": "8a8d2763",
   "metadata": {},
   "outputs": [],
   "source": [
    "df_gap_max.groupby('gap').count().to_excel(r'C:\\Users\\MSI\\Downloads\\max_gap_p2p.xlsx')\n",
    "df_gap_median.groupby('gap').count().to_excel(r'C:\\Users\\MSI\\Downloads\\median_gap_p2p.xlsx')"
   ]
  },
  {
   "cell_type": "code",
   "execution_count": 36,
   "id": "5774b49c",
   "metadata": {},
   "outputs": [
    {
     "data": {
      "text/html": [
       "<div>\n",
       "<style scoped>\n",
       "    .dataframe tbody tr th:only-of-type {\n",
       "        vertical-align: middle;\n",
       "    }\n",
       "\n",
       "    .dataframe tbody tr th {\n",
       "        vertical-align: top;\n",
       "    }\n",
       "\n",
       "    .dataframe thead th {\n",
       "        text-align: right;\n",
       "    }\n",
       "</style>\n",
       "<table border=\"1\" class=\"dataframe\">\n",
       "  <thead>\n",
       "    <tr style=\"text-align: right;\">\n",
       "      <th></th>\n",
       "      <th>gap</th>\n",
       "    </tr>\n",
       "  </thead>\n",
       "  <tbody>\n",
       "    <tr>\n",
       "      <th>count</th>\n",
       "      <td>3561868.00</td>\n",
       "    </tr>\n",
       "    <tr>\n",
       "      <th>mean</th>\n",
       "      <td>118.21</td>\n",
       "    </tr>\n",
       "    <tr>\n",
       "      <th>std</th>\n",
       "      <td>166.98</td>\n",
       "    </tr>\n",
       "    <tr>\n",
       "      <th>min</th>\n",
       "      <td>1.00</td>\n",
       "    </tr>\n",
       "    <tr>\n",
       "      <th>50%</th>\n",
       "      <td>64.00</td>\n",
       "    </tr>\n",
       "    <tr>\n",
       "      <th>90%</th>\n",
       "      <td>289.00</td>\n",
       "    </tr>\n",
       "    <tr>\n",
       "      <th>95%</th>\n",
       "      <td>414.00</td>\n",
       "    </tr>\n",
       "    <tr>\n",
       "      <th>99%</th>\n",
       "      <td>751.00</td>\n",
       "    </tr>\n",
       "    <tr>\n",
       "      <th>max</th>\n",
       "      <td>19070.00</td>\n",
       "    </tr>\n",
       "  </tbody>\n",
       "</table>\n",
       "</div>"
      ],
      "text/plain": [
       "             gap\n",
       "count 3561868.00\n",
       "mean      118.21\n",
       "std       166.98\n",
       "min         1.00\n",
       "50%        64.00\n",
       "90%       289.00\n",
       "95%       414.00\n",
       "99%       751.00\n",
       "max     19070.00"
      ]
     },
     "execution_count": 36,
     "metadata": {},
     "output_type": "execute_result"
    }
   ],
   "source": [
    "df_gap_max.describe([.9, .95, .99])"
   ]
  },
  {
   "cell_type": "code",
   "execution_count": 35,
   "id": "0292b977",
   "metadata": {},
   "outputs": [
    {
     "data": {
      "text/html": [
       "<div>\n",
       "<style scoped>\n",
       "    .dataframe tbody tr th:only-of-type {\n",
       "        vertical-align: middle;\n",
       "    }\n",
       "\n",
       "    .dataframe tbody tr th {\n",
       "        vertical-align: top;\n",
       "    }\n",
       "\n",
       "    .dataframe thead th {\n",
       "        text-align: right;\n",
       "    }\n",
       "</style>\n",
       "<table border=\"1\" class=\"dataframe\">\n",
       "  <thead>\n",
       "    <tr style=\"text-align: right;\">\n",
       "      <th></th>\n",
       "      <th>gap</th>\n",
       "    </tr>\n",
       "  </thead>\n",
       "  <tbody>\n",
       "    <tr>\n",
       "      <th>count</th>\n",
       "      <td>3561868.00</td>\n",
       "    </tr>\n",
       "    <tr>\n",
       "      <th>mean</th>\n",
       "      <td>22.09</td>\n",
       "    </tr>\n",
       "    <tr>\n",
       "      <th>std</th>\n",
       "      <td>57.34</td>\n",
       "    </tr>\n",
       "    <tr>\n",
       "      <th>min</th>\n",
       "      <td>1.00</td>\n",
       "    </tr>\n",
       "    <tr>\n",
       "      <th>50%</th>\n",
       "      <td>7.00</td>\n",
       "    </tr>\n",
       "    <tr>\n",
       "      <th>90%</th>\n",
       "      <td>45.00</td>\n",
       "    </tr>\n",
       "    <tr>\n",
       "      <th>95%</th>\n",
       "      <td>87.00</td>\n",
       "    </tr>\n",
       "    <tr>\n",
       "      <th>99%</th>\n",
       "      <td>274.00</td>\n",
       "    </tr>\n",
       "    <tr>\n",
       "      <th>max</th>\n",
       "      <td>2417.00</td>\n",
       "    </tr>\n",
       "  </tbody>\n",
       "</table>\n",
       "</div>"
      ],
      "text/plain": [
       "             gap\n",
       "count 3561868.00\n",
       "mean       22.09\n",
       "std        57.34\n",
       "min         1.00\n",
       "50%         7.00\n",
       "90%        45.00\n",
       "95%        87.00\n",
       "99%       274.00\n",
       "max      2417.00"
      ]
     },
     "execution_count": 35,
     "metadata": {},
     "output_type": "execute_result"
    }
   ],
   "source": [
    "df_gap_median.describe([.9, .95, .99])"
   ]
  },
  {
   "cell_type": "code",
   "execution_count": 37,
   "id": "7e3cb0db",
   "metadata": {},
   "outputs": [
    {
     "data": {
      "text/plain": [
       "9.633333333333333"
      ]
     },
     "execution_count": 37,
     "metadata": {},
     "output_type": "execute_result"
    }
   ],
   "source": []
  },
  {
   "cell_type": "code",
   "execution_count": null,
   "id": "624c15c7",
   "metadata": {},
   "outputs": [],
   "source": []
  },
  {
   "cell_type": "code",
   "execution_count": null,
   "id": "ef800759",
   "metadata": {},
   "outputs": [],
   "source": []
  },
  {
   "cell_type": "code",
   "execution_count": null,
   "id": "bc3fa17d",
   "metadata": {},
   "outputs": [],
   "source": []
  }
 ],
 "metadata": {
  "kernelspec": {
   "display_name": "Python 3 (ipykernel)",
   "language": "python",
   "name": "python3"
  },
  "language_info": {
   "codemirror_mode": {
    "name": "ipython",
    "version": 3
   },
   "file_extension": ".py",
   "mimetype": "text/x-python",
   "name": "python",
   "nbconvert_exporter": "python",
   "pygments_lexer": "ipython3",
   "version": "3.9.7"
  }
 },
 "nbformat": 4,
 "nbformat_minor": 5
}
